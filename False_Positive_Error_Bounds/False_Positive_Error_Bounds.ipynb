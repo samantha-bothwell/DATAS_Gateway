{
 "cells": [
  {
   "cell_type": "markdown",
   "metadata": {},
   "source": [
    "# False Positive and False Negative Error Bounds\n",
    "\n",
    "##### Samantha Bothwell\n",
    "\n",
    "July $9^{th}$, 2019"
   ]
  },
  {
   "cell_type": "markdown",
   "metadata": {},
   "source": [
    "### False Positive \n",
    "\n",
    "Let's start with a definition of what a False Positive is. \n",
    "\n",
    "**False Positive**: Make the decision to reject the null hypothesis ($H_o$) when the null is true. \n",
    "\n",
    "This is the same as a Type I error. We know that the probability that you make a Type I error is $\\alpha$ so,\n",
    "\n",
    "<center>$P(\\textrm{False Positive}) = P(\\textrm{Reject $H_o$ | True $H_o$}) = \\alpha$</center>\n",
    "\n",
    "Since you can either have a false positive (we'll denote as $FP$) or not, we can say the following:\n",
    "\n",
    "<center>$FP \\sim Binomial(n,\\alpha)$,<center>\n",
    "    \n",
    "where n is the number of trials. We expect the number of false positives to be $\\mu = N\\alpha$. The standard deviation, based on the binomial distribution, is $\\sigma = \\sqrt{n\\alpha(1-\\alpha)}$. The confidence interval around this mean will be \n",
    "\n",
    "<center>$\\left[n\\alpha - t_{\\alpha/2}\\sqrt{n\\alpha(1-\\alpha)}, n\\alpha - t_{\\alpha/2}\\sqrt{n\\alpha(1-\\alpha)}\\right]$<center>\n",
    "\n",
    "Where $t_{\\alpha/2}$ will be determined by the binomial distribution.\n"
   ]
  },
  {
   "cell_type": "markdown",
   "metadata": {},
   "source": [
    "#### Calculation\n",
    "\n",
    "Let's use $\\alpha = 0.05$ and $n = 1000$.\n",
    "\n",
    "The expected number of false positives is $1000 \\times 0.05 = \\boldsymbol{50}$.\n",
    "\n",
    "The standard deviation is $\\sqrt{1000 \\times 0.05 (1-0.05)} = \\boldsymbol{6.89}$\n",
    "\n",
    "To determine the confidence interval we will use python:"
   ]
  },
  {
   "cell_type": "code",
   "execution_count": 15,
   "metadata": {},
   "outputs": [
    {
     "name": "stdout",
     "output_type": "stream",
     "text": [
      "[37. 64.]\n"
     ]
    }
   ],
   "source": [
    "print(binom.ppf((0.025,0.975), 1000, 0.05))\n"
   ]
  },
  {
   "cell_type": "markdown",
   "metadata": {},
   "source": [
    "So, the 95% confidence interval for the number of false positives is **[37, 64]**. \n",
    "\n",
    "Unfortunately, we cannot know where our false positive lies. But we are 95% confident that the true number of false positives present are [37,64]."
   ]
  },
  {
   "cell_type": "markdown",
   "metadata": {},
   "source": [
    "##### Simulation\n",
    "\n",
    "Let's start with an easy example to determine the number of false positives. We will be using white noise - so we're testing the following hypothesis:\n",
    "\\begin{align}\n",
    "H_0: &\\mu = 0 \\\\\n",
    "H_A: &\\mu \\neq 0\n",
    "\\end{align}\n",
    "\n",
    "Since the samples are taken from a standard normal distribution we know our null is true. Let's see when we'll reject our null hypothesis."
   ]
  },
  {
   "cell_type": "code",
   "execution_count": 55,
   "metadata": {},
   "outputs": [
    {
     "data": {
      "image/png": "[encoded data removed]",
      "text/plain": [
       "<Figure size 900x600 with 1 Axes>"
      ]
     },
     "metadata": {
      "needs_background": "light"
     },
     "output_type": "display_data"
    }
   ],
   "source": [
    "import numpy as np\n",
    "from matplotlib import pyplot as plt\n",
    "import matplotlib as mpl\n",
    "\n",
    "# set figure defaults\n",
    "mpl.rcParams['figure.dpi'] = 150\n",
    "plt.rcParams['figure.figsize'] = (12.0/2, 8.0/2)\n",
    "\n",
    "n = 100\n",
    "matrix = np.zeros((n,4))\n",
    "### Plot confidence intervals of the type 1 error rate\n",
    "for i in range(n):\n",
    "    white_noise = np.random.normal(0,1,100); \n",
    "    mean = np.mean(white_noise)\n",
    "    var = np.var(white_noise)\n",
    "    lower = mean - 1.96*np.sqrt(var/100)\n",
    "    upper = mean + 1.96*np.sqrt(var/100)\n",
    "    \n",
    "    matrix[i,:] = [mean, var, lower, upper]\n",
    " \n",
    "plt.figure()\n",
    "plt.axis([0, n, -0.5, 0.5])\n",
    "plt.plot(matrix[:,0],'ok',markersize = 1)\n",
    "plt.plot(lower, upper, 'm', linewidth=3)\n",
    "plt.show()\n"
   ]
  },
  {
   "cell_type": "code",
   "execution_count": 50,
   "metadata": {},
   "outputs": [
    {
     "data": {
      "text/plain": [
       "0.0"
      ]
     },
     "execution_count": 50,
     "metadata": {},
     "output_type": "execute_result"
    }
   ],
   "source": [
    "too_high = (0 < lower)\n",
    "too_low = (0 > upper)\n",
    "\n",
    "# Proportion of misses should be close to alpha\n",
    "np.mean(too_low+too_high)"
   ]
  },
  {
   "cell_type": "code",
   "execution_count": null,
   "metadata": {},
   "outputs": [],
   "source": []
  }
 ],
 "metadata": {
  "kernelspec": {
   "display_name": "Python 3",
   "language": "python",
   "name": "python3"
  },
  "language_info": {
   "codemirror_mode": {
    "name": "ipython",
    "version": 3
   },
   "file_extension": ".py",
   "mimetype": "text/x-python",
   "name": "python",
   "nbconvert_exporter": "python",
   "pygments_lexer": "ipython3",
   "version": "3.7.3"
  }
 },
 "nbformat": 4,
 "nbformat_minor": 2
}
