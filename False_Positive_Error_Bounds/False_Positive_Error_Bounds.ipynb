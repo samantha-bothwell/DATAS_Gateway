{
 "cells": [
  {
   "cell_type": "markdown",
   "metadata": {},
   "source": [
    "# False Positive and False Negative Error Bounds\n",
    "\n",
    "##### Samantha Bothwell\n",
    "\n",
    "July $9^{th}$, 2019"
   ]
  },
  {
   "cell_type": "markdown",
   "metadata": {},
   "source": [
    "### False Positive \n",
    "\n",
    "Let's start with a definition of what a False Positive is. \n",
    "\n",
    "**False Positive**: Make the decision to reject the null hypothesis ($H_o$) when the null is true. \n",
    "\n",
    "This is the same as a Type I error. We know that the probability that you make a Type I error is $\\alpha$ so,\n",
    "\n",
    "<center>$P(\\textrm{False Positive}) = P(\\textrm{Reject $H_o$ | True $H_o$}) = \\alpha$</center>\n",
    "\n",
    "Since you can either have a false positive (we'll denote as $FP$) or not, we can say the following:\n",
    "\n",
    "<center>$FP \\sim Binomial(N,\\alpha)$,<center>\n",
    "    \n",
    "where n is the number of trials. We expect the number of false positives to be $\\mu = N\\alpha$. The standard deviation, based on the binomial distribution, is $\\sigma = \\sqrt{N\\alpha(1-\\alpha)}$. The confidence interval around this mean will be \n",
    "\n",
    "<center>$\\left[N\\alpha - t_{\\alpha/2}\\sqrt{\\frac{N\\alpha(1-\\alpha)}{N}}, n\\alpha - t_{\\alpha/2}\\sqrt{\\frac{N\\alpha(1-\\alpha)}{N}}\\right]$<center>\n",
    "\n",
    "Where $t_{\\alpha/2}$ will be determined by the binomial distribution.\n"
   ]
  },
  {
   "cell_type": "markdown",
   "metadata": {},
   "source": [
    "##### Theoretical Confidence Interval\n",
    "\n",
    "Let's use $\\alpha = 0.05$ and $n = 1000$.\n",
    "\n",
    "The expected number of false positives is $1000 \\times 0.05 = \\boldsymbol{50}$.\n",
    "\n",
    "The standard deviation is $\\sqrt{1000 \\times 0.05 (1-0.05)} = \\boldsymbol{6.89}$\n",
    "\n",
    "To determine the confidence interval we will use python:"
   ]
  },
  {
   "cell_type": "code",
   "execution_count": 9,
   "metadata": {},
   "outputs": [
    {
     "name": "stdout",
     "output_type": "stream",
     "text": [
      "49.57\n",
      "50.43\n"
     ]
    }
   ],
   "source": [
    "# Since we have a large sample size, we will use the normal approximation for the binomial distribution\n",
    "import math\n",
    "print(round(50 - 1.96*6.89/math.sqrt(1000),2))\n",
    "print(round(50 + 1.96*6.89/math.sqrt(1000),2))"
   ]
  },
  {
   "cell_type": "markdown",
   "metadata": {},
   "source": [
    "So, the 95% confidence interval for the number of false positives is **[49.6, 50.4]** - or we can say the 95% confidence interval for the proportion of false positives is [0.0496, 0.0504]\n",
    "\n",
    "Unfortunately, we cannot always know exactly where our false positives lie. But, we are 95% confident that the true number of false positives present are [49.6, 50.4]."
   ]
  },
  {
   "cell_type": "markdown",
   "metadata": {},
   "source": [
    "##### Simulation\n",
    "\n",
    "Let's start with an easy example to determine the number of false positives. We will be using white noise - so we're testing the following hypothesis:\n",
    "\\begin{align}\n",
    "H_0: &\\mu = 0 \\\\\n",
    "H_A: &\\mu \\neq 0\n",
    "\\end{align}\n",
    "\n",
    "Since the samples are taken from a standard normal distribution we know our null is true. Let's see when we'll reject our null by creating confidence intervals and seeing how many contain 0:"
   ]
  },
  {
   "cell_type": "code",
   "execution_count": 22,
   "metadata": {
    "scrolled": false
   },
   "outputs": [
    {
     "name": "stdout",
     "output_type": "stream",
     "text": [
      "Proportion of misses: 0.04\n"
     ]
    }
   ],
   "source": [
    "import numpy as np\n",
    "from matplotlib import pyplot as plt\n",
    "import matplotlib as mpl\n",
    "\n",
    "# set figure defaults\n",
    "mpl.rcParams['figure.dpi'] = 150\n",
    "plt.rcParams['figure.figsize'] = (12.0/2, 8.0/2)\n",
    "\n",
    "# set seed for reproducible results\n",
    "np.random.seed(2019)\n",
    "\n",
    "# create matrix to store confidence intervals\n",
    "n = 100\n",
    "matrix = np.zeros((n,4))\n",
    "\n",
    "### Simulation to create confidence intervals from a standard normal\n",
    "for i in range(n):\n",
    "    white_noise = np.random.normal(0,1,1000); \n",
    "    mean = np.mean(white_noise)\n",
    "    var = np.var(white_noise)\n",
    "    lower = mean - 1.96*np.sqrt(var/1000)\n",
    "    upper = mean + 1.96*np.sqrt(var/1000)\n",
    "    \n",
    "    matrix[i,:] = [mean, var, lower, upper]\n",
    "\n",
    "    \n",
    "# Check if CI is too high or too low\n",
    "too_high = (0 < matrix[:,2])\n",
    "too_low = (0 > matrix[:,3])\n",
    "\n",
    "# Proportion of misses - this should be approximately alpha\n",
    "print(\"Proportion of misses:\" , np.mean(too_low + too_high))"
   ]
  },
  {
   "cell_type": "markdown",
   "metadata": {},
   "source": [
    "So, in this case, the proportion of false positives in a sample of 100 replicated of a normal distribution is 0.04 - meaning we have 4 total false positives. We can visualize our 100 confidence intervals and see the 4 replicates that missed $\\mu = 0$"
   ]
  },
  {
   "cell_type": "code",
   "execution_count": 127,
   "metadata": {
    "scrolled": false
   },
   "outputs": [
    {
     "data": {
      "image/png": "[encoded data removed]",
      "text/plain": [
       "<Figure size 900x600 with 1 Axes>"
      ]
     },
     "metadata": {
      "needs_background": "light"
     },
     "output_type": "display_data"
    }
   ],
   "source": [
    "# Get indices of the false positives\n",
    "xhigh = np.where(0 < matrix[:,2])[0]\n",
    "xlow = np.where(0 > matrix[:,3])[0]\n",
    "\n",
    "plt.figure()\n",
    "plt.axis([0, n, -0.15, 0.15])\n",
    "x0, y0 = [range(n), range(n)], [matrix[:,2], matrix[:,3]]\n",
    "x1, y1 = [xhigh, xhigh], [matrix[:,2][too_high], matrix[:,3][too_high]]\n",
    "x2, y2 = [xlow, xlow], [matrix[:,2][too_low], matrix[:,3][too_low]]\n",
    "plt.plot(x0, y0, 'black')\n",
    "plt.plot(x1, y1, 'red')\n",
    "plt.plot(x2, y2, 'lime')\n",
    "plt.axhline(y=0, color='blue', linestyle='-')\n",
    "plt.show()"
   ]
  },
  {
   "cell_type": "markdown",
   "metadata": {},
   "source": [
    "Based on these confidence intervals, we would reject the null hypothesis for the samples highlighted in green or red. These are all false positives - we reject the null, but the null is true. \n",
    "\n",
    "Now let's run some simulations to find the distribution for false positives and the confidence interval. We will use the simulation above but run it 1000 times to get a list of the number of false positives."
   ]
  },
  {
   "cell_type": "code",
   "execution_count": 128,
   "metadata": {},
   "outputs": [],
   "source": [
    "# set seed for reproducible results\n",
    "np.random.seed(2019)\n",
    "\n",
    "N = 1000\n",
    "n = 100\n",
    "\n",
    "# set up matrices to be filled in through simulation\n",
    "misses = np.zeros((N,1))\n",
    "CIs = np.zeros((n,3))\n",
    "\n",
    "# simulation to determine a CI for false positives\n",
    "for j in range(N):\n",
    "    for i in range(n):\n",
    "        white_noise = np.random.normal(0,1,1000); \n",
    "        mean = np.mean(white_noise)\n",
    "        var = np.var(white_noise)\n",
    "        lower = mean - 1.96*np.sqrt(var/1000)\n",
    "        upper = mean + 1.96*np.sqrt(var/1000)\n",
    "    \n",
    "        matrix[i,:] = [mean, var, lower, upper]\n",
    "        \n",
    "    too_high = (0 < matrix[:,2])\n",
    "    too_low = (0 > matrix[:,3])\n",
    "\n",
    "    # Update matrix by noting the number of false positives (misses) in the sample\n",
    "    misses[j] = np.mean(too_low + too_high)"
   ]
  },
  {
   "cell_type": "code",
   "execution_count": 141,
   "metadata": {},
   "outputs": [
    {
     "data": {
      "image/png": "[encoded data removed]",
      "text/plain": [
       "<Figure size 900x600 with 1 Axes>"
      ]
     },
     "metadata": {
      "needs_background": "light"
     },
     "output_type": "display_data"
    }
   ],
   "source": [
    "plt.hist(x=misses, bins=12, color='#bc42f5', edgecolor='black')\n",
    "plt.axvline(x=0.05, color='#42e3f5', linestyle='--') # Plot line at alpha\n",
    "plt.xlabel('Proportion of False Positives')\n",
    "plt.ylabel('Frequency')\n",
    "plt.title('1000 simulations')\n",
    "plt.show()"
   ]
  },
  {
   "cell_type": "markdown",
   "metadata": {},
   "source": [
    "Now we can use this simulation to determine the confidence interval for the proportion of false positives - before we found the theoretical confidence interval to be [0.0496, 0.0504]. Let's see how close our simulation came to this:"
   ]
  },
  {
   "cell_type": "code",
   "execution_count": 146,
   "metadata": {},
   "outputs": [
    {
     "name": "stdout",
     "output_type": "stream",
     "text": [
      "[0.0487134] [0.0513466]\n"
     ]
    }
   ],
   "source": [
    "# Get confidence interval\n",
    "import scipy.stats\n",
    "\n",
    "a = 1.0 * np.array(misses)\n",
    "n = len(a)\n",
    "m, se = np.mean(a), scipy.stats.sem(a)\n",
    "h = se * scipy.stats.t.ppf((1 + 0.95) / 2., n-1)\n",
    "print(m-h, m+h)"
   ]
  },
  {
   "cell_type": "markdown",
   "metadata": {},
   "source": [
    "Based on the simulations, the 95% confidence interval for the number of false positives is [0.049, 0.051] - this is pretty close to our theoretical calculation. "
   ]
  },
  {
   "cell_type": "code",
   "execution_count": null,
   "metadata": {},
   "outputs": [],
   "source": []
  }
 ],
 "metadata": {
  "kernelspec": {
   "display_name": "Python 3",
   "language": "python",
   "name": "python3"
  },
  "language_info": {
   "codemirror_mode": {
    "name": "ipython",
    "version": 3
   },
   "file_extension": ".py",
   "mimetype": "text/x-python",
   "name": "python",
   "nbconvert_exporter": "python",
   "pygments_lexer": "ipython3",
   "version": "3.7.3"
  }
 },
 "nbformat": 4,
 "nbformat_minor": 2
}
