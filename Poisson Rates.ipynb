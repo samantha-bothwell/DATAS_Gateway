{
 "cells": [
  {
   "cell_type": "markdown",
   "metadata": {},
   "source": [
    "## Poisson Rates\n",
    "\n",
    "##### Samantha Bothwell\n",
    "\n",
    "July $23^{rd}, 2019$\n"
   ]
  },
  {
   "cell_type": "markdown",
   "metadata": {},
   "source": [
    "### Definition\n",
    "\n",
    "The **Poisson Distribution** is discrete and used for count data, where you determine the probability that a given number of events occur within a time period. This distribution takes one parameter, often denoted with the symbol $\\lambda$ which is a known fixed rate which represents the number of events expected to occur in a certain time interval. We would say \n",
    "\n",
    "<center>$N \\sim Poisson(\\lambda)$</center>\n",
    "\n",
    "\n"
   ]
  },
  {
   "cell_type": "markdown",
   "metadata": {},
   "source": [
    "### Probability Mass Function\n",
    "\n",
    "The probability of observing k events occur within a time interval is given by the equation:\n",
    "\n",
    "<center>P($k$ events occur) = <font size=\"4.5\">$\\frac{e^{-\\lambda}\\lambda^k}{k!}$</center> </font>\n",
    "\n",
    "where $k$ = 0, 1, 2...\n",
    "\n",
    "This pmf can be adapted so that the parameter is a time rate, $\\lambda = rt$. In this case, $r$ is 1 unit per time period. The equation then changes to the following:\n",
    "\n",
    "<center>P($k$ events occur in time $t$) = <font size=\"4.5\">$\\frac{e^{-rt}(rt)^k}{k!}$</center> </font>\n"
   ]
  },
  {
   "cell_type": "markdown",
   "metadata": {},
   "source": [
    "### Poisson vs Binomial Distribution\n",
    "\n",
    "Use the Poisson distribution when you are trying to determine the probability of a certain number of defined events happening in a given time period.\n",
    "\n",
    "Use the Binomial distribution when you are trying to determine the probability of a certain number of defined events happening out of a determined number of trials. \n",
    "\n",
    "The binomial distribution converges to the poisson for large N. Let's prove this:\n",
    "\n",
    "The pmf of the binomial distribution is $\\binom{n}{k}p^k(1-p)^{n-k}$\n",
    "\n",
    "and 3"
   ]
  },
  {
   "cell_type": "markdown",
   "metadata": {},
   "source": [
    "### Descriptive Statistics\n",
    "\n",
    "Based on the pmf, let's derive the mean and variance of the poisson distribution:\n",
    "\n",
    "\\begin{align*}\n",
    "\\mu = E[N] &= \\sum_{k = 0}^\\infty k \\frac{e^{-\\lambda}\\lambda^k}{k!} \\\\\n",
    "&= \\sum_{k = 0}^\\infty \\frac{e^{-\\lambda}\\lambda^k}{(k-1)!} \\\\\n",
    "&= \\lambda \\sum_{k = 1}^\\infty \\frac{e^{-\\lambda}\\lambda^{k-1}}{(k-1)!} \\hspace{5mm} \\textrm{Let } m = k-1 \\\\\n",
    "&= \\lambda \\sum_{m = 0}^\\infty \\frac{e^{-\\lambda}\\lambda^m}{m!} \\\\\n",
    "&= \\lambda \\cdot 1 \\hspace{23mm} \\textrm{Since } \\sum_{k = 0}^\\infty \\frac{e^{-\\lambda}\\lambda^k}{k!} = 0 \\\\\n",
    "&= \\lambda\n",
    "\\end{align*}\n",
    "\n",
    "We will calculate variance using the formula $\\sigma^2 = E[N(N-1)] + E[N] - E[N]^2$.\n",
    "\n",
    "We will first derive $E[N(N-1)]$\n",
    "\n",
    "\\begin{align*}\n",
    "E[N(N-1)] &= \\sum_{k = 0}^\\infty k(k-1) \\frac{e^{-\\lambda}\\lambda^k}{k!} \\\\\n",
    "&= \\sum_{k = 0}^\\infty \\frac{e^{-\\lambda}\\lambda^k}{(k-2)!} \\\\\n",
    "&= \\lambda^2 \\sum_{k = 2}^\\infty \\frac{e^{-\\lambda}\\lambda^{k-2}}{(k-2)!} \\hspace{10mm} \\textrm{Let } m = k-2 \\\\\n",
    "&= \\lambda^2 \\sum_{m = 0}^\\infty \\frac{e^{-\\lambda}\\lambda^m}{m!} \\\\\n",
    "&= \\lambda^2 \\cdot 1 \\hspace{28mm} \\textrm{Since } \\sum_{k = 0}^\\infty \\frac{e^{-\\lambda}\\lambda^k}{k!} = 0 \\\\\n",
    "&= \\lambda^2\n",
    "\\end{align*}\n",
    "\n",
    "Now, we can solve for the variance:\n",
    "\n",
    "\\begin{align*}\n",
    "\\sigma^2 = Var[N] = E[N(N-1)] + E[N] - E[N]^2 = \\lambda^2 + \\lambda - \\lambda^2 = \\lambda\n",
    "\\end{align*}\n",
    "\n",
    "So, for the poisson distribution, $\\mu = \\sigma^2 = \\boldsymbol{\\lambda}$"
   ]
  },
  {
   "cell_type": "markdown",
   "metadata": {},
   "source": [
    "### Plotting the Poisson Distribution\n",
    "\n"
   ]
  },
  {
   "cell_type": "code",
   "execution_count": 28,
   "metadata": {},
   "outputs": [
    {
     "ename": "TypeError",
     "evalue": "only size-1 arrays can be converted to Python scalars",
     "output_type": "error",
     "traceback": [
      "\u001b[0;31m---------------------------------------------------------------------------\u001b[0m",
      "\u001b[0;31mTypeError\u001b[0m                                 Traceback (most recent call last)",
      "\u001b[0;32m<ipython-input-28-2665c41be838>\u001b[0m in \u001b[0;36m<module>\u001b[0;34m\u001b[0m\n\u001b[1;32m     14\u001b[0m \u001b[0;31m# for loop to plot poisson dist for various lambdas\u001b[0m\u001b[0;34m\u001b[0m\u001b[0;34m\u001b[0m\u001b[0;34m\u001b[0m\u001b[0m\n\u001b[1;32m     15\u001b[0m \u001b[0;32mfor\u001b[0m \u001b[0mx\u001b[0m \u001b[0;32min\u001b[0m \u001b[0mrange\u001b[0m\u001b[0;34m(\u001b[0m\u001b[0;36m6\u001b[0m\u001b[0;34m)\u001b[0m\u001b[0;34m:\u001b[0m\u001b[0;34m\u001b[0m\u001b[0;34m\u001b[0m\u001b[0m\n\u001b[0;32m---> 16\u001b[0;31m     \u001b[0md\u001b[0m \u001b[0;34m=\u001b[0m \u001b[0mnp\u001b[0m\u001b[0;34m.\u001b[0m\u001b[0mexp\u001b[0m\u001b[0;34m(\u001b[0m\u001b[0;34m-\u001b[0m\u001b[0mx\u001b[0m\u001b[0;34m)\u001b[0m\u001b[0;34m*\u001b[0m\u001b[0mnp\u001b[0m\u001b[0;34m.\u001b[0m\u001b[0mpower\u001b[0m\u001b[0;34m(\u001b[0m\u001b[0mx\u001b[0m\u001b[0;34m,\u001b[0m \u001b[0mt\u001b[0m\u001b[0;34m)\u001b[0m\u001b[0;34m/\u001b[0m\u001b[0mmath\u001b[0m\u001b[0;34m.\u001b[0m\u001b[0mfactorial\u001b[0m\u001b[0;34m(\u001b[0m\u001b[0mt\u001b[0m\u001b[0;34m)\u001b[0m\u001b[0;34m\u001b[0m\u001b[0;34m\u001b[0m\u001b[0m\n\u001b[0m\u001b[1;32m     17\u001b[0m     \u001b[0mplt\u001b[0m\u001b[0;34m.\u001b[0m\u001b[0mplot\u001b[0m\u001b[0;34m(\u001b[0m\u001b[0mt\u001b[0m\u001b[0;34m,\u001b[0m \u001b[0md\u001b[0m\u001b[0;34m,\u001b[0m \u001b[0;34m'-'\u001b[0m\u001b[0;34m,\u001b[0m \u001b[0mlabel\u001b[0m \u001b[0;34m=\u001b[0m \u001b[0;34m\"$\\lambda$ = {}\"\u001b[0m\u001b[0;34m.\u001b[0m\u001b[0mformat\u001b[0m\u001b[0;34m(\u001b[0m\u001b[0mx\u001b[0m\u001b[0;34m)\u001b[0m\u001b[0;34m)\u001b[0m\u001b[0;34m\u001b[0m\u001b[0;34m\u001b[0m\u001b[0m\n\u001b[1;32m     18\u001b[0m \u001b[0;34m\u001b[0m\u001b[0m\n",
      "\u001b[0;31mTypeError\u001b[0m: only size-1 arrays can be converted to Python scalars"
     ]
    }
   ],
   "source": [
    "# import packages\n",
    "import numpy as np\n",
    "import matplotlib as mpl\n",
    "import matplotlib.pyplot as plt\n",
    "import math\n",
    "\n",
    "# set figure defaults\n",
    "mpl.rcParams['figure.dpi'] = 150\n",
    "plt.rcParams['figure.figsize'] = (12.0/2, 8.0/2)\n",
    "\n",
    "# x-axis\n",
    "t = np.arange(0, 10, 1)\n",
    "\n",
    "# for loop to plot poisson dist for various lambdas\n",
    "for x in range(6):\n",
    "    d = np.exp(-x)*np.power(x, t)/math.factorial(t)\n",
    "    plt.plot(t, d, '-', label = \"$\\lambda$ = {}\".format(x))\n",
    "\n",
    "plt.legend(loc='upper right')\n",
    "plt.show()"
   ]
  },
  {
   "cell_type": "markdown",
   "metadata": {},
   "source": [
    "### Basic Example\n",
    "\n",
    "Let's start with the following scenario:\n",
    "\n",
    "\n"
   ]
  },
  {
   "cell_type": "markdown",
   "metadata": {},
   "source": [
    "### Climate Example"
   ]
  },
  {
   "cell_type": "code",
   "execution_count": null,
   "metadata": {},
   "outputs": [],
   "source": [
    "\n"
   ]
  }
 ],
 "metadata": {
  "kernelspec": {
   "display_name": "Python 3",
   "language": "python",
   "name": "python3"
  },
  "language_info": {
   "codemirror_mode": {
    "name": "ipython",
    "version": 3
   },
   "file_extension": ".py",
   "mimetype": "text/x-python",
   "name": "python",
   "nbconvert_exporter": "python",
   "pygments_lexer": "ipython3",
   "version": "3.7.3"
  }
 },
 "nbformat": 4,
 "nbformat_minor": 2
}
