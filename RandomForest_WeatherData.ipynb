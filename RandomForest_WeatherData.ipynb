{
 "cells": [
  {
   "cell_type": "markdown",
   "metadata": {},
   "source": [
    "# Random Forest Weather Data\n",
    "\n",
    "### Samantha Bothwell\n",
    "June 11th, 2019"
   ]
  },
  {
   "cell_type": "markdown",
   "metadata": {},
   "source": [
    "## Random Forest Background\n",
    "\n",
    "The random forest algorithm is a form of supervised learning. Random Forests are a form of decision trees. In the algorithm, trees are built by choosing a random subset of variables and then the model averages the predicitons of all the trees. \n",
    "\n",
    "The random forest algorithm is most often used when there is a mixture of numeric and factor variables. Before using the random forest algorithm, here are some pros and cons to consider:\n",
    "\n",
    "##### Pros\n",
    "* You can obtain a reliable variable importance plot that ranks the variables by how helpful they are in predicting the response.\n",
    "* The algorithm is effectively able to fill in missing information based on what information is present.\n",
    "* The estimate for the generalization error progresses as the forest builds, and is unbiased.\n",
    "\n",
    "##### Cons\n",
    "* This is a black box algorithm - meaning, though it is powerful for predicting, it is difficult to interpret.\n",
    "* When working with a dataset with significant noise, the algorithm will overfit.\n",
    "* Variable importance is biased towards categorical variables with more levels. \n",
    "* Due to overfitting, the algorithm performs poorly with predicting future data if there is any seasonality."
   ]
  },
  {
   "cell_type": "code",
   "execution_count": 2,
   "metadata": {},
   "outputs": [],
   "source": [
    "# Load important packages \n",
    "import numpy as np\n"
   ]
  },
  {
   "cell_type": "markdown",
   "metadata": {},
   "source": [
    "## Clean Data\n",
    "\n",
    "The data we will be using was taken from http://www.atmos.colostate.edu/fccwx/fccwx_latest.php, a record of climate observations for Fort Collins, CO. The data was taken hourly from June 2018 - June 2019. Later we will look at data from June 2014 - June 2019. We will remove the first column that represents the time the data point was taken. "
   ]
  },
  {
   "cell_type": "code",
   "execution_count": null,
   "metadata": {},
   "outputs": [],
   "source": [
    "# First we will read in the data and clean it\n",
    "dat = "
   ]
  }
 ],
 "metadata": {
  "kernelspec": {
   "display_name": "Python 3",
   "language": "python",
   "name": "python3"
  },
  "language_info": {
   "codemirror_mode": {
    "name": "ipython",
    "version": 3
   },
   "file_extension": ".py",
   "mimetype": "text/x-python",
   "name": "python",
   "nbconvert_exporter": "python",
   "pygments_lexer": "ipython3",
   "version": "3.7.3"
  }
 },
 "nbformat": 4,
 "nbformat_minor": 2
}
