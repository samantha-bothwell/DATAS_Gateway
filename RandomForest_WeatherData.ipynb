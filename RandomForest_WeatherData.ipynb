{
 "cells": [
  {
   "cell_type": "markdown",
   "metadata": {},
   "source": [
    "# Random Forest Weather Data\n",
    "\n",
    "### Samantha Bothwell\n",
    "June 11th, 2019"
   ]
  },
  {
   "cell_type": "markdown",
   "metadata": {},
   "source": [
    "## Random Forest Background\n",
    "\n",
    "The random forest algorithm is a form of supervised learning. Random Forests are a form of decision trees. In the algorithm, trees are built by choosing a random subset of variables and then the model averages the predicitons of all the trees. \n",
    "\n",
    "The random forest algorithm is most often used when there is a mixture of numeric and factor variables. Before using the random forest algorithm, here are some pros and cons to consider:\n",
    "\n",
    "##### Pros\n",
    "* You can obtain a reliable variable importance plot that ranks the variables by how helpful they are in predicting the response.\n",
    "* The algorithm is effectively able to fill in missing information based on what information is present.\n",
    "* The estimate for the generalization error progresses as the forest builds, and is unbiased.\n",
    "\n",
    "##### Cons\n",
    "* This is a black box algorithm - meaning, though it is powerful for predicting, it is difficult to interpret.\n",
    "* When working with a dataset with significant noise, the algorithm will overfit.\n",
    "* Variable importance is biased towards categorical variables with more levels. \n",
    "* Due to overfitting, the algorithm performs poorly with predicting future data if there is any seasonality."
   ]
  },
  {
   "cell_type": "code",
   "execution_count": 82,
   "metadata": {},
   "outputs": [],
   "source": [
    "# Load important packages \n",
    "import numpy as np\n",
    "import pandas as pd\n",
    "import random \n",
    "import math\n",
    "from sklearn.ensemble import RandomForestRegressor\n",
    "from sklearn.tree import export_graphviz\n",
    "from IPython.display import Image\n",
    "from sklearn import tree\n",
    "from subprocess import call\n",
    "from IPython import display\n",
    "from rfpimp import *\n"
   ]
  },
  {
   "cell_type": "markdown",
   "metadata": {},
   "source": [
    "## Clean Data\n",
    "\n",
    "The data we will be using was taken from http://www.atmos.colostate.edu/fccwx/fccwx_latest.php, a record of climate observations for Fort Collins, CO. The data was taken hourly from June 2018 - June 2019. Later we will look at data from June 2014 - June 2019. We will remove the first column that represents the time the data point was taken. "
   ]
  },
  {
   "cell_type": "code",
   "execution_count": 83,
   "metadata": {
    "scrolled": false
   },
   "outputs": [],
   "source": [
    "# First we will read in the data and clean it\n",
    "dat = pd.read_csv(\"Weather.csv\")\n",
    "\n",
    "# Remove first two columns\n",
    "dat.drop([\"Unnamed: 0\", \"DateTime\"], axis = 1, inplace = True)\n",
    "    \n",
    "# Rename columns\n",
    "dat = dat.rename(index=str, columns={\"Temp\": \"Temp_degF\", \"RH\": \"Humidity_Pct\",\n",
    "                              \"DewPt\": \"DewPt_degF\", \"Wind\": \"Wind_mph\",\n",
    "                              \"Dir\": \"WindDir_degNorth\", \"Gust\": \"Gust_mph\",\n",
    "                              \"GustDir\": \"GustDir_degNorth\", \"Press\": \"Pressure_Hg\",\n",
    "                              \"Solar\": \"Solar_WatPerSqM\", \"Prec\": \"Percip_in\"})"
   ]
  },
  {
   "cell_type": "markdown",
   "metadata": {},
   "source": [
    "## Analysis - Filling in missing data\n",
    "\n",
    "Now that our data is clean, let's walk through using the Random Forest Algorithm.\n",
    "First, we will make data sets for testing and training. These are random samples from our original data. We will use the training data to make the model and the testing data to evaluate how effective our model is at making predictions. For this data, I will make my training data 75% of the original data set and testing data the other 25% of the original data set. "
   ]
  },
  {
   "cell_type": "code",
   "execution_count": 84,
   "metadata": {},
   "outputs": [],
   "source": [
    "random.seed(2019) # set seed for reproducible results\n",
    "\n",
    "# make training data 75% of the original data\n",
    "msk = np.random.rand(len(dat)) < 0.75\n",
    "train = dat[msk]\n",
    "test = dat[~msk]\n",
    "\n",
    "X_train, y_train = train.drop('Temp_degF',axis=1), train['Temp_degF']\n",
    "X_test, y_test = test.drop('Temp_degF',axis=1), test['Temp_degF']\n"
   ]
  },
  {
   "cell_type": "markdown",
   "metadata": {},
   "source": [
    "For the model we will try to predict the temperature based on the remaining variables"
   ]
  },
  {
   "cell_type": "code",
   "execution_count": 85,
   "metadata": {},
   "outputs": [],
   "source": [
    "# Random Forest algorithm\n",
    "rf = RandomForestRegressor(n_estimators = 1000) #1000 trees in the model\n",
    "\n",
    "# Train the model on training data\n",
    "fit = rf.fit(X_train, y_train)\n"
   ]
  },
  {
   "cell_type": "markdown",
   "metadata": {},
   "source": [
    "### Visuals\n",
    "\n",
    "There are many visuals we can make from Random Forest to understand our data better. The visuals I will give examples of are:\n",
    "* Decision Tree\n",
    "* Variable Importance Plot\n",
    "* Partial Plot\n",
    "\n"
   ]
  },
  {
   "cell_type": "markdown",
   "metadata": {},
   "source": [
    "#### Decision Tree\n",
    "We can view one of the trees from the Forest."
   ]
  },
  {
   "cell_type": "code",
   "execution_count": 98,
   "metadata": {},
   "outputs": [
    {
     "data": {
      "image/png": "\n",
      "text/plain": [
       "<IPython.core.display.Image object>"
      ]
     },
     "execution_count": 98,
     "metadata": {},
     "output_type": "execute_result"
    }
   ],
   "source": [
    "# Extract single tree\n",
    "estimator = fit.estimators_[5]\n",
    "\n",
    "# Export as dot file\n",
    "export_graphviz(estimator, out_file='tree.dot', \n",
    "                feature_names = list(X_train.columns.values),\n",
    "               #  class_names = 'Temp_degF',\n",
    "                rounded = True, proportion = False, \n",
    "                precision = 2, filled = True)\n",
    "\n",
    "# Convert to png using system command (requires Graphviz)\n",
    "call(['dot', '-Tpng', 'tree.dot', '-o', 'tree.png', '-Gdpi=600'])\n",
    "\n",
    "# Display in jupyter notebook\n",
    "Image(filename = 'tree.png')\n"
   ]
  },
  {
   "cell_type": "markdown",
   "metadata": {},
   "source": [
    "#### Variable Importance Plot"
   ]
  },
  {
   "cell_type": "code",
   "execution_count": 130,
   "metadata": {},
   "outputs": [
    {
     "name": "stdout",
     "output_type": "stream",
     "text": [
      "Feature ranking:\n",
      "1. feature 1 (0.612883)(DewPt_degF)\n",
      "2. feature 0 (0.386016)(Humidity_Pct)\n",
      "3. feature 6 (0.000268)(Pressure_Hg)\n",
      "4. feature 7 (0.000186)(Solar_WatPerSqM)\n",
      "5. feature 3 (0.000167)(WindDir_degNorth)\n",
      "6. feature 5 (0.000164)(GustDir_degNorth)\n",
      "7. feature 4 (0.000162)(Gust_mph)\n",
      "8. feature 2 (0.000152)(Wind_mph)\n",
      "9. feature 8 (0.000002)(Percip_in)\n"
     ]
    },
    {
     "data": {
      "image/png": "[encoded data removed]",
      "text/plain": [
       "<Figure size 1440x720 with 1 Axes>"
      ]
     },
     "metadata": {
      "needs_background": "light"
     },
     "output_type": "display_data"
    }
   ],
   "source": [
    "importances = rf.feature_importances_\n",
    "std = np.std([tree.feature_importances_ for tree in rf.estimators_],\n",
    "             axis=0)\n",
    "indices = np.argsort(importances)[::-1]\n",
    "names = X_train.columns.values[indices]\n",
    "\n",
    "# Print the feature ranking\n",
    "print(\"Feature ranking:\")\n",
    "\n",
    "for f in range(X_train.shape[1]):\n",
    "     print(\"%d. feature %d (%f)\" % (f + 1, indices[f], importances[indices[f]]) + \"(\" + names[f] + \")\")\n",
    "\n",
    "# Plot the feature importances of the forest\n",
    "plt.figure(figsize=(20,10))\n",
    "plt.title(\"Feature importances\", fontsize = 20)\n",
    "plt.bar(range(X_train.shape[1]), importances[indices],\n",
    "       color=\"r\", yerr=std[indices], align=\"center\")\n",
    "plt.xticks(range(X_train.shape[1]), names, fontsize = 12)\n",
    "plt.xlim([-1, X_train.shape[1]])\n",
    "plt.show()\n"
   ]
  },
  {
   "cell_type": "code",
   "execution_count": null,
   "metadata": {},
   "outputs": [],
   "source": []
  }
 ],
 "metadata": {
  "kernelspec": {
   "display_name": "Python 3",
   "language": "python",
   "name": "python3"
  },
  "language_info": {
   "codemirror_mode": {
    "name": "ipython",
    "version": 3
   },
   "file_extension": ".py",
   "mimetype": "text/x-python",
   "name": "python",
   "nbconvert_exporter": "python",
   "pygments_lexer": "ipython3",
   "version": "3.7.3"
  }
 },
 "nbformat": 4,
 "nbformat_minor": 2
}
